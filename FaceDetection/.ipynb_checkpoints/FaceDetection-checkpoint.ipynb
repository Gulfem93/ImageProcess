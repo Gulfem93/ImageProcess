{
 "cells": [
  {
   "cell_type": "code",
   "execution_count": 1,
   "id": "b6f77a29",
   "metadata": {
    "scrolled": true
   },
   "outputs": [
    {
     "name": "stdout",
     "output_type": "stream",
     "text": [
      "Requirement already satisfied: mediapipe in c:\\users\\lenovo\\appdata\\local\\programs\\python\\python39\\lib\\site-packages (0.8.11)\n",
      "Requirement already satisfied: opencv-python in c:\\users\\lenovo\\appdata\\local\\programs\\python\\python39\\lib\\site-packages (4.5.5.62)\n",
      "Requirement already satisfied: pandas in c:\\users\\lenovo\\appdata\\local\\programs\\python\\python39\\lib\\site-packages (1.3.2)\n",
      "Requirement already satisfied: scikit-learn in c:\\users\\lenovo\\appdata\\local\\programs\\python\\python39\\lib\\site-packages (0.24.2)\n",
      "Requirement already satisfied: absl-py in c:\\users\\lenovo\\appdata\\local\\programs\\python\\python39\\lib\\site-packages (from mediapipe) (0.13.0)\n",
      "Requirement already satisfied: attrs>=19.1.0 in c:\\users\\lenovo\\appdata\\local\\programs\\python\\python39\\lib\\site-packages (from mediapipe) (21.2.0)\n",
      "Requirement already satisfied: matplotlib in c:\\users\\lenovo\\appdata\\local\\programs\\python\\python39\\lib\\site-packages (from mediapipe) (3.4.3)\n",
      "Requirement already satisfied: opencv-contrib-python in c:\\users\\lenovo\\appdata\\local\\programs\\python\\python39\\lib\\site-packages (from mediapipe) (4.5.5.62)\n",
      "Requirement already satisfied: numpy in c:\\users\\lenovo\\appdata\\local\\programs\\python\\python39\\lib\\site-packages (from mediapipe) (1.19.5)\n",
      "Requirement already satisfied: protobuf<4,>=3.11 in c:\\users\\lenovo\\appdata\\local\\programs\\python\\python39\\lib\\site-packages (from mediapipe) (3.17.3)\n",
      "Requirement already satisfied: python-dateutil>=2.7.3 in c:\\users\\lenovo\\appdata\\local\\programs\\python\\python39\\lib\\site-packages (from pandas) (2.8.2)\n",
      "Requirement already satisfied: pytz>=2017.3 in c:\\users\\lenovo\\appdata\\local\\programs\\python\\python39\\lib\\site-packages (from pandas) (2021.1)\n",
      "Requirement already satisfied: threadpoolctl>=2.0.0 in c:\\users\\lenovo\\appdata\\local\\programs\\python\\python39\\lib\\site-packages (from scikit-learn) (2.2.0)\n",
      "Requirement already satisfied: joblib>=0.11 in c:\\users\\lenovo\\appdata\\local\\programs\\python\\python39\\lib\\site-packages (from scikit-learn) (1.0.1)\n",
      "Requirement already satisfied: scipy>=0.19.1 in c:\\users\\lenovo\\appdata\\local\\programs\\python\\python39\\lib\\site-packages (from scikit-learn) (1.7.1)\n",
      "Requirement already satisfied: six>=1.9 in c:\\users\\lenovo\\appdata\\local\\programs\\python\\python39\\lib\\site-packages (from protobuf<4,>=3.11->mediapipe) (1.15.0)\n",
      "Requirement already satisfied: pillow>=6.2.0 in c:\\users\\lenovo\\appdata\\local\\programs\\python\\python39\\lib\\site-packages (from matplotlib->mediapipe) (8.3.1)\n",
      "Requirement already satisfied: cycler>=0.10 in c:\\users\\lenovo\\appdata\\local\\programs\\python\\python39\\lib\\site-packages (from matplotlib->mediapipe) (0.10.0)\n",
      "Requirement already satisfied: kiwisolver>=1.0.1 in c:\\users\\lenovo\\appdata\\local\\programs\\python\\python39\\lib\\site-packages (from matplotlib->mediapipe) (1.3.1)\n",
      "Requirement already satisfied: pyparsing>=2.2.1 in c:\\users\\lenovo\\appdata\\local\\programs\\python\\python39\\lib\\site-packages (from matplotlib->mediapipe) (2.4.7)\n"
     ]
    }
   ],
   "source": [
    "!pip install mediapipe opencv-python pandas scikit-learn"
   ]
  },
  {
   "cell_type": "markdown",
   "id": "2c1f2aff",
   "metadata": {},
   "source": [
    "## Analysis Content\n",
    "1. [Install Library](#1)\n",
    "1. [Face Detection](#2)"
   ]
  },
  {
   "cell_type": "markdown",
   "id": "1cd549a2",
   "metadata": {},
   "source": [
    "### <a id = \"1\"></a><b>Install Library"
   ]
  },
  {
   "cell_type": "code",
   "execution_count": 2,
   "id": "a2d1527c",
   "metadata": {},
   "outputs": [],
   "source": [
    "import cv2\n",
    "import mediapipe as mp"
   ]
  },
  {
   "cell_type": "markdown",
   "id": "d9baf23e",
   "metadata": {},
   "source": [
    "### <a id = \"1\"></a><b>Face Detection"
   ]
  },
  {
   "cell_type": "markdown",
   "id": "ceaf936a",
   "metadata": {},
   "source": []
  },
  {
   "cell_type": "code",
   "execution_count": 3,
   "id": "a8d284ec",
   "metadata": {},
   "outputs": [],
   "source": [
    "mpFaceDetection = mp.solutions.face_detection\n",
    "FaceDetection = mpFaceDetection.FaceDetection(0.02)\n",
    "\n",
    "mpDraw = mp.solutions.drawing_utils"
   ]
  },
  {
   "cell_type": "code",
   "execution_count": 6,
   "id": "738b88cd",
   "metadata": {},
   "outputs": [],
   "source": [
    "cap = cv2.VideoCapture(\"video3.mp4\")\n",
    "\n",
    "while True:\n",
    "    success, img = cap.read()\n",
    "    \n",
    "    if success == True: \n",
    "        imgRGB = cv2.cvtColor(img, cv2.COLOR_BGR2RGB)\n",
    "        \n",
    "        result = FaceDetection.process(imgRGB)\n",
    "        #print(result.detections)\n",
    "        if result.detections:\n",
    "            for id, detection in enumerate(result.detections):\n",
    "                # print(detection.location_data.relative_bounding_box)\n",
    "                bboxC = detection.location_data.relative_bounding_box\n",
    "                h, w, c = img.shape\n",
    "                \n",
    "                bbox = int(bboxC.xmin * w), int(bboxC.ymin * h), int(bboxC.width * w), int(bboxC.height * h)\n",
    "                \n",
    "                cv2.rectangle(img, bbox, (0, 255, 255), 2)\n",
    "                \n",
    "        cv2.imshow(\"img\", img)\n",
    "        cv2.waitKey(20)\n",
    "    \n",
    "    else: break\n",
    "        \n",
    "cap.release()\n",
    "cv2.destroyAllWindows()"
   ]
  },
  {
   "cell_type": "markdown",
   "id": "3c866072",
   "metadata": {},
   "source": [
    "<img align = \"left\" src = \"resmi_okumadan_once.png\" width = \"256\"/> **First Image "
   ]
  },
  {
   "cell_type": "markdown",
   "id": "0e7d43fe",
   "metadata": {},
   "source": [
    "<img align = \"left\" src = \"resmi_okuduktan_sonra.png\" width = \"256\"/>**After Image"
   ]
  }
 ],
 "metadata": {
  "kernelspec": {
   "display_name": "Python 3 (ipykernel)",
   "language": "python",
   "name": "python3"
  },
  "language_info": {
   "codemirror_mode": {
    "name": "ipython",
    "version": 3
   },
   "file_extension": ".py",
   "mimetype": "text/x-python",
   "name": "python",
   "nbconvert_exporter": "python",
   "pygments_lexer": "ipython3",
   "version": "3.9.6"
  }
 },
 "nbformat": 4,
 "nbformat_minor": 5
}
